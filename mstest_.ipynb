{
 "cells": [
  {
   "cell_type": "code",
   "execution_count": null,
   "metadata": {},
   "outputs": [],
   "source": [
    "# scontrol show job 842767"
   ]
  },
  {
   "cell_type": "code",
   "execution_count": null,
   "metadata": {},
   "outputs": [],
   "source": [
    "from datetime import datetime\n",
    "\n",
    "(datetime(2024, 9, 11, 16, 49, 10, 32939) - datetime.now()).total_seconds()/60"
   ]
  },
  {
   "cell_type": "code",
   "execution_count": null,
   "metadata": {},
   "outputs": [],
   "source": [
    "\n",
    "# def get_job_runtime_scontrol(job_id):\n",
    "import subprocess\n",
    "import os\n",
    "try:\n",
    "    env=os.environ.copy()\n",
    "    result = subprocess.run(\n",
    "        ['scontrol', 'show', 'job', env['SLURM_JOBID']],\n",
    "        capture_output=True, text=True, check=True\n",
    "    )\n",
    "    output = result.stdout.splitlines()\n",
    "    for line in output:\n",
    "        if 'RunTime=' in line:\n",
    "            # Extract the runtime\n",
    "            runtime = line.split('RunTime=')[1].split()[0]\n",
    "except subprocess.CalledProcessError as e:\n",
    "    print(f\"Error executing scontrol: {e}\")\n"
   ]
  },
  {
   "cell_type": "code",
   "execution_count": 98,
   "metadata": {},
   "outputs": [
    {
     "name": "stdout",
     "output_type": "stream",
     "text": [
      "JobId=6222 JobName=bash\n",
      "   UserId=ubuntu(1000) GroupId=ubuntu(1000) MCS_label=N/A\n",
      "   Priority=1 Nice=0 Account=(null) QOS=(null)\n",
      "   JobState=RUNNING Reason=None Dependency=(null)\n",
      "   Requeue=1 Restarts=0 BatchFlag=0 Reboot=0 ExitCode=0:0\n",
      "   RunTime=00:20:49 TimeLimit=UNLIMITED TimeMin=N/A\n",
      "   SubmitTime=2024-09-10T10:51:20 EligibleTime=2024-09-10T10:51:20\n",
      "   AccrueTime=Unknown\n",
      "   StartTime=2024-09-10T10:51:20 EndTime=2024-09-10T10:51:20 Deadline=N/A\n",
      "   SuspendTime=None SecsPreSuspend=0 LastSchedEval=2024-09-10T10:51:20 Scheduler=Main\n",
      "   Partition=debug AllocNode:Sid=164-152-24-115:2747201\n",
      "   ReqNodeList=(null) ExcNodeList=(null)\n",
      "   NodeList=164-152-24-115\n",
      "   BatchHost=164-152-24-115\n",
      "   NumNodes=1 NumCPUs=1 NumTasks=1 CPUs/Task=1 ReqB:S:C:T=0:0:*:*\n",
      "   ReqTRES=cpu=1,mem=1814217M,node=1,billing=1\n",
      "   AllocTRES=cpu=1,node=1,billing=1\n",
      "   Socks/Node=* NtasksPerN:B:S:C=0:0:*:* CoreSpec=*\n",
      "   MinCPUsNode=1 MinMemoryNode=0 MinTmpDiskNode=0\n",
      "   Features=(null) DelayBoot=00:00:00\n",
      "   OverSubscribe=OK Contiguous=0 Licenses=(null) Network=(null)\n",
      "   Command=bash\n",
      "   WorkDir=/home/ubuntu/llm-random-group/llm-random-cemetery/test_checkpoint_saving_4gpu_bs1024_2024-09-07_00-03-12/test_saving/rzckmcczmb\n",
      "   Power=\n",
      "   \n",
      "\n",
      "\n"
     ]
    }
   ],
   "source": [
    "res = 'JobId=6222 JobName=bash\\n   UserId=ubuntu(1000) GroupId=ubuntu(1000) MCS_label=N/A\\n   Priority=1 Nice=0 Account=(null) QOS=(null)\\n   JobState=RUNNING Reason=None Dependency=(null)\\n   Requeue=1 Restarts=0 BatchFlag=0 Reboot=0 ExitCode=0:0\\n   RunTime=00:20:49 TimeLimit=UNLIMITED TimeMin=N/A\\n   SubmitTime=2024-09-10T10:51:20 EligibleTime=2024-09-10T10:51:20\\n   AccrueTime=Unknown\\n   StartTime=2024-09-10T10:51:20 EndTime=2024-09-10T10:51:20 Deadline=N/A\\n   SuspendTime=None SecsPreSuspend=0 LastSchedEval=2024-09-10T10:51:20 Scheduler=Main\\n   Partition=debug AllocNode:Sid=164-152-24-115:2747201\\n   ReqNodeList=(null) ExcNodeList=(null)\\n   NodeList=164-152-24-115\\n   BatchHost=164-152-24-115\\n   NumNodes=1 NumCPUs=1 NumTasks=1 CPUs/Task=1 ReqB:S:C:T=0:0:*:*\\n   ReqTRES=cpu=1,mem=1814217M,node=1,billing=1\\n   AllocTRES=cpu=1,node=1,billing=1\\n   Socks/Node=* NtasksPerN:B:S:C=0:0:*:* CoreSpec=*\\n   MinCPUsNode=1 MinMemoryNode=0 MinTmpDiskNode=0\\n   Features=(null) DelayBoot=00:00:00\\n   OverSubscribe=OK Contiguous=0 Licenses=(null) Network=(null)\\n   Command=bash\\n   WorkDir=/home/ubuntu/llm-random-group/llm-random-cemetery/test_checkpoint_saving_4gpu_bs1024_2024-09-07_00-03-12/test_saving/rzckmcczmb\\n   Power=\\n   \\n\\n'\n",
    "print(res)"
   ]
  },
  {
   "cell_type": "code",
   "execution_count": 99,
   "metadata": {},
   "outputs": [
    {
     "data": {
      "text/plain": [
       "['JobId=6222',\n",
       " 'JobName=bash',\n",
       " 'UserId=ubuntu(1000)',\n",
       " 'GroupId=ubuntu(1000)',\n",
       " 'MCS_label=N/A',\n",
       " 'Priority=1',\n",
       " 'Nice=0',\n",
       " 'Account=(null)',\n",
       " 'QOS=(null)',\n",
       " 'JobState=RUNNING',\n",
       " 'Reason=None',\n",
       " 'Dependency=(null)',\n",
       " 'Requeue=1',\n",
       " 'Restarts=0',\n",
       " 'BatchFlag=0',\n",
       " 'Reboot=0',\n",
       " 'ExitCode=0:0',\n",
       " 'RunTime=00:20:49',\n",
       " 'TimeLimit=UNLIMITED',\n",
       " 'TimeMin=N/A',\n",
       " 'SubmitTime=2024-09-10T10:51:20',\n",
       " 'EligibleTime=2024-09-10T10:51:20',\n",
       " 'AccrueTime=Unknown',\n",
       " 'StartTime=2024-09-10T10:51:20',\n",
       " 'EndTime=2024-09-10T10:51:20',\n",
       " 'Deadline=N/A',\n",
       " 'SuspendTime=None',\n",
       " 'SecsPreSuspend=0',\n",
       " 'LastSchedEval=2024-09-10T10:51:20',\n",
       " 'Scheduler=Main',\n",
       " 'Partition=debug',\n",
       " 'AllocNode:Sid=164-152-24-115:2747201',\n",
       " 'ReqNodeList=(null)',\n",
       " 'ExcNodeList=(null)',\n",
       " 'NodeList=164-152-24-115',\n",
       " 'BatchHost=164-152-24-115',\n",
       " 'NumNodes=1',\n",
       " 'NumCPUs=1',\n",
       " 'NumTasks=1',\n",
       " 'CPUs/Task=1',\n",
       " 'ReqB:S:C:T=0:0:*:*',\n",
       " 'ReqTRES=cpu=1,mem=1814217M,node=1,billing=1',\n",
       " 'AllocTRES=cpu=1,node=1,billing=1',\n",
       " 'Socks/Node=*',\n",
       " 'NtasksPerN:B:S:C=0:0:*:*',\n",
       " 'CoreSpec=*',\n",
       " 'MinCPUsNode=1',\n",
       " 'MinMemoryNode=0',\n",
       " 'MinTmpDiskNode=0',\n",
       " 'Features=(null)',\n",
       " 'DelayBoot=00:00:00',\n",
       " 'OverSubscribe=OK',\n",
       " 'Contiguous=0',\n",
       " 'Licenses=(null)',\n",
       " 'Network=(null)',\n",
       " 'Command=bash',\n",
       " 'WorkDir=/home/ubuntu/llm-random-group/llm-random-cemetery/test_checkpoint_saving_4gpu_bs1024_2024-09-07_00-03-12/test_saving/rzckmcczmb',\n",
       " 'Power=']"
      ]
     },
     "execution_count": 99,
     "metadata": {},
     "output_type": "execute_result"
    }
   ],
   "source": [
    "[e for e in res.replace('\\n', ' ').split(' ') if e!='']"
   ]
  },
  {
   "cell_type": "code",
   "execution_count": 103,
   "metadata": {},
   "outputs": [
    {
     "data": {
      "text/plain": [
       "datetime.datetime(2024, 9, 10, 10, 51, 20)"
      ]
     },
     "execution_count": 103,
     "metadata": {},
     "output_type": "execute_result"
    }
   ],
   "source": [
    "date_str = '2024-09-10T10:51:20'\n",
    "date_format = '%Y-%m-%dT%H:%M:%S'\n",
    "\n",
    "date_obj = datetime.strptime(date_str, date_format)\n",
    "date_obj"
   ]
  },
  {
   "cell_type": "code",
   "execution_count": null,
   "metadata": {},
   "outputs": [],
   "source": [
    "from datetime import datetime\n",
    "\n",
    "\n",
    "def stdout_get_end_time(stdout):\n",
    "    param_k = \"EndTime=\"\n",
    "    for param in [e for e in stdout.replace('\\n', ' ').split(' ') if e!='']:\n",
    "        if param_k in param:\n",
    "            val = param.replace(param_k, '')\n",
    "            date_str = '2023-02-28 14:30:00'\n",
    "            date_format = '%H:%M:%S'\n",
    "\n",
    "            date_obj = datetime.strptime(date_str, date_format)\n",
    "            print(date_obj)\n",
    "            \n",
    "    \n",
    "\n",
    "stdout_get_runtime(res)"
   ]
  },
  {
   "cell_type": "code",
   "execution_count": null,
   "metadata": {},
   "outputs": [],
   "source": [
    "import subprocess\n",
    "result = subprocess.run(\n",
    "    ['ls', '-al'],\n",
    "    capture_output=True, text=True, check=True, shell=True\n",
    ")"
   ]
  },
  {
   "cell_type": "code",
   "execution_count": null,
   "metadata": {},
   "outputs": [],
   "source": [
    "import subprocess\n",
    "import os\n",
    "ex = None\n",
    "try:\n",
    "    env=os.environ.copy()\n",
    "    result = subprocess.run(\n",
    "        ['scontrol', 'show', 'job', env['SLURM_JOBID']],\n",
    "        capture_output=True, text=True, check=True, \n",
    "    )\n",
    "except Exception as e:\n",
    "    ex = e"
   ]
  },
  {
   "cell_type": "code",
   "execution_count": null,
   "metadata": {},
   "outputs": [],
   "source": [
    "result = subprocess.run(\n",
    "    ['scontrol', 'show', 'job', '$SLURM_JOBID'],\n",
    "    capture_output=True, text=True, check=True, env=\n",
    ")"
   ]
  },
  {
   "cell_type": "markdown",
   "metadata": {},
   "source": [
    "### new args\n",
    "\n",
    "repeater_job_time\n",
    "\n",
    "repeater_max_chain\n"
   ]
  },
  {
   "cell_type": "markdown",
   "metadata": {},
   "source": []
  },
  {
   "cell_type": "code",
   "execution_count": null,
   "metadata": {},
   "outputs": [],
   "source": [
    "import subprocess\n",
    "import os\n",
    "\n",
    "# Create a copy of the current environment\n",
    "env = os.environ.copy()\n",
    "\n",
    "# # Modify or add a new environment variable\n",
    "# env['MY_VAR'] = 'my_aassdasdasdvalue'\n",
    "\n",
    "# Run a command with the modified environment\n",
    "result = subprocess.run(['echo', env['USER']])\n",
    "\n",
    "print(result)"
   ]
  },
  {
   "cell_type": "code",
   "execution_count": null,
   "metadata": {},
   "outputs": [],
   "source": [
    "env"
   ]
  }
 ],
 "metadata": {
  "kernelspec": {
   "display_name": "llmrandom",
   "language": "python",
   "name": "python3"
  },
  "language_info": {
   "codemirror_mode": {
    "name": "ipython",
    "version": 3
   },
   "file_extension": ".py",
   "mimetype": "text/x-python",
   "name": "python",
   "nbconvert_exporter": "python",
   "pygments_lexer": "ipython3",
   "version": "3.9.19"
  }
 },
 "nbformat": 4,
 "nbformat_minor": 2
}
